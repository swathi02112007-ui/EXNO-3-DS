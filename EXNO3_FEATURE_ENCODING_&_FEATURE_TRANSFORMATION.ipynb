{
  "cells": [
    {
      "cell_type": "code",
      "execution_count": null,
      "metadata": {
        "id": "Uw00iz0bs4-_"
      },
      "outputs": [],
      "source": [
        "import pandas as pd # pyright: ignore[reportMissingModuleSource]"
      ]
    },
    {
      "cell_type": "code",
      "execution_count": null,
      "metadata": {
        "id": "yVSV3tx-teA4"
      },
      "outputs": [],
      "source": [
        "df=pd.read_csv(\"Encoding Data.csv\")\n",
        "df"
      ]
    },
    {
      "cell_type": "markdown",
      "metadata": {
        "id": "b5DuEUOnt64y"
      },
      "source": [
        "**ORDINAL ENCODER**"
      ]
    },
    {
      "cell_type": "code",
      "execution_count": null,
      "metadata": {
        "id": "IhdaCfgqtxzh"
      },
      "outputs": [],
      "source": [
        "from sklearn.preprocessing import LabelEncoder,OrdinalEncoder # pyright: ignore[reportMissingModuleSource]"
      ]
    },
    {
      "cell_type": "code",
      "execution_count": null,
      "metadata": {
        "id": "SFJGE3rx0Jzk"
      },
      "outputs": [],
      "source": [
        "pm=['Hot','Warm','Cold']"
      ]
    },
    {
      "cell_type": "code",
      "execution_count": null,
      "metadata": {
        "id": "D9qJZ3oL0NNo"
      },
      "outputs": [],
      "source": [
        "##TYPE YOUR CODE HERE\n",
        "# Create and fit encoder\n",
        "e1 = OrdinalEncoder(categories=[pm])\n",
        "\n",
        "# Apply encoding to 'ord_2' column\n",
        "df['ord_2_encoded'] = e1.fit_transform(df[['ord_2']])\n",
        "\n",
        "print(\"After Ordinal Encoding:\")\n",
        "display(df) # pyright: ignore[reportUndefinedVariable]"
      ]
    },
    {
      "cell_type": "code",
      "execution_count": null,
      "metadata": {
        "id": "tJwa5l8W0RnA"
      },
      "outputs": [],
      "source": [
        "df['bo2']=e1.fit_transform(df[[\"ord_2\"]]) # pyright: ignore[reportUndefinedVariable]"
      ]
    },
    {
      "cell_type": "code",
      "execution_count": null,
      "metadata": {
        "id": "g-r_Nv6y0Vem"
      },
      "outputs": [],
      "source": [
        "df"
      ]
    },
    {
      "cell_type": "code",
      "execution_count": null,
      "metadata": {
        "id": "dYbpm3Qy0XWI"
      },
      "outputs": [],
      "source": [
        "df['ord_2']=e1.fit_transform(df[[\"ord_2\"]]) # pyright: ignore[reportUndefinedVariable]"
      ]
    },
    {
      "cell_type": "code",
      "execution_count": null,
      "metadata": {
        "id": "2dN-t8yV0e2O"
      },
      "outputs": [],
      "source": [
        "df"
      ]
    },
    {
      "cell_type": "markdown",
      "metadata": {
        "id": "Zfqbiwq50jRe"
      },
      "source": [
        "**LABEL ENCODER**"
      ]
    },
    {
      "cell_type": "code",
      "execution_count": null,
      "metadata": {
        "id": "hKe7Efpo0gwG"
      },
      "outputs": [],
      "source": [
        "le=LabelEncoder()"
      ]
    },
    {
      "cell_type": "code",
      "execution_count": null,
      "metadata": {
        "id": "Qe1cUOli0nlr"
      },
      "outputs": [],
      "source": [
        "dfc=df.copy()"
      ]
    },
    {
      "cell_type": "code",
      "execution_count": null,
      "metadata": {
        "id": "AYwsTLFF0pvX"
      },
      "outputs": [],
      "source": [
        "##TYPE YOUR CODE HERE\n",
        "# Example: Encoding 'nom_0' column\n",
        "dfc['nom_0_encoded'] = le.fit_transform(dfc['nom_0'])\n",
        "\n",
        "print(\"After Label Encoding:\")\n",
        "display(dfc) # pyright: ignore[reportUndefinedVariable]"
      ]
    },
    {
      "cell_type": "markdown",
      "metadata": {
        "id": "fmYzFXxD0u37"
      },
      "source": [
        "**OneHotEncoder**"
      ]
    },
    {
      "cell_type": "code",
      "execution_count": null,
      "metadata": {
        "id": "x03bsJMn0sGs"
      },
      "outputs": [],
      "source": [
        "from sklearn.preprocessing import OneHotEncoder # pyright: ignore[reportMissingModuleSource]\n",
        "# Example: Encoding 'nom_0' column\n",
        "dfc['nom_0_encoded'] = le.fit_transform(dfc['nom_0'])\n",
        "\n",
        "print(\"After Label Encoding:\")\n",
        "display(dfc) # pyright: ignore[reportUndefinedVariable]"
      ]
    },
    {
      "cell_type": "code",
      "execution_count": null,
      "metadata": {
        "id": "kaq89KEu1Mqz"
      },
      "outputs": [],
      "source": [
        "ohe=OneHotEncoder(sparse=False)\n",
        "df2=df.copy()"
      ]
    },
    {
      "cell_type": "code",
      "execution_count": null,
      "metadata": {
        "id": "8FAOQM_G1Og4"
      },
      "outputs": [],
      "source": [
        "#TYPE YOUR DATAFRAME CODE HERE\n",
        "print(\"After One-Hot Encoding:\")\n",
        "display(df2) # pyright: ignore[reportUndefinedVariable]"
      ]
    },
    {
      "cell_type": "code",
      "execution_count": null,
      "metadata": {
        "id": "_xR2Yt-Y1VEC"
      },
      "outputs": [],
      "source": [
        "#TYPE YOUR CONCAT CODE HERE\n",
        "print(\"Using pd.get_dummies:\")\n",
        "display(pd.get_dummies(df2, columns=[\"nom_0\"], drop_first=True)) # pyright: ignore[reportUndefinedVariable]"
      ]
    },
    {
      "cell_type": "code",
      "execution_count": null,
      "metadata": {
        "id": "ZAwB3bGf1YPs"
      },
      "outputs": [],
      "source": [
        "pd.get_dummies(df2,columns=[\"nom_0\"])"
      ]
    },
    {
      "cell_type": "markdown",
      "metadata": {
        "id": "ze1SlnBF1eJn"
      },
      "source": [
        "**BinaryEncoder**"
      ]
    },
    {
      "cell_type": "code",
      "execution_count": null,
      "metadata": {
        "id": "-qqzNvj51c37"
      },
      "outputs": [],
      "source": [
        "##pip install --upgrade category_encoders"
      ]
    },
    {
      "cell_type": "code",
      "execution_count": null,
      "metadata": {
        "id": "ExemM3nr1kk9"
      },
      "outputs": [],
      "source": [
        "from category_encoders import BinaryEncoder # pyright: ignore[reportMissingImports]"
      ]
    },
    {
      "cell_type": "code",
      "execution_count": null,
      "metadata": {
        "id": "MaI7QJTE1noN"
      },
      "outputs": [],
      "source": [
        "df=pd.read_csv(\"data.csv\")"
      ]
    },
    {
      "cell_type": "code",
      "execution_count": null,
      "metadata": {
        "id": "yOqoVHEb1pb1"
      },
      "outputs": [],
      "source": [
        "df"
      ]
    },
    {
      "cell_type": "code",
      "execution_count": null,
      "metadata": {
        "id": "HdyUzQB01ror"
      },
      "outputs": [],
      "source": [
        "be=BinaryEncoder()"
      ]
    },
    {
      "cell_type": "code",
      "execution_count": null,
      "metadata": {
        "id": "NlTK0eXC1vJ3"
      },
      "outputs": [],
      "source": [
        "##TYPE YOUR CODE HERE\n",
        "be = BinaryEncoder(cols=['nom_0'])\n",
        "df_bin_encoded = be.fit_transform(df_bin)\n",
        "\n",
        "print(\"After Binary Encoding:\")\n",
        "display(df_bin_encoded) # pyright: ignore[reportUndefinedVariable]\n"
      ]
    },
    {
      "cell_type": "markdown",
      "metadata": {
        "id": "ZewuRrZv1kPa"
      },
      "source": [
        "**TargetEncoder**"
      ]
    },
    {
      "cell_type": "code",
      "execution_count": null,
      "metadata": {
        "id": "SmgCx24S15Mm"
      },
      "outputs": [],
      "source": [
        "from category_encoders import TargetEncoder"
      ]
    },
    {
      "cell_type": "code",
      "execution_count": null,
      "metadata": {
        "id": "qYpk96hb17Pw"
      },
      "outputs": [],
      "source": [
        "te=TargetEncoder()"
      ]
    },
    {
      "cell_type": "code",
      "execution_count": null,
      "metadata": {
        "id": "HfZ7fJz519zO"
      },
      "outputs": [],
      "source": [
        "cc=df.copy()"
      ]
    },
    {
      "cell_type": "code",
      "execution_count": null,
      "metadata": {
        "id": "Ixc2bNG-1_8-"
      },
      "outputs": [],
      "source": [
        "##TYPE YOUR CODE HERE\n",
        "# For demonstration, create a fake target column\n",
        "cc['target'] = np.random.randint(0, 2, size=len(cc))\n",
        "\n",
        "# Apply Target Encoding\n",
        "cc['nom_0_target_encoded'] = te.fit_transform(cc['nom_0'], cc['target'])"
      ]
    },
    {
      "cell_type": "code",
      "execution_count": null,
      "metadata": {
        "id": "-XJ2cDEM2EJ0"
      },
      "outputs": [],
      "source": [
        "#TYPE YOUR CONCAT CODE HERE\n",
        "print(\"After Target Encoding:\")\n",
        "display(cc) # pyright: ignore[reportUndefinedVariable]\n"
      ]
    },
    {
      "cell_type": "markdown",
      "metadata": {
        "id": "eEFiB6li3a28"
      },
      "source": [
        "**FEATURE TRANSFORMATION**"
      ]
    },
    {
      "cell_type": "code",
      "execution_count": null,
      "metadata": {
        "id": "O8eknqs0ptxY"
      },
      "outputs": [],
      "source": [
        "import pandas as pd # pyright: ignore[reportMissingModuleSource]\n",
        "from scipy import stats # pyright: ignore[reportMissingImports]\n",
        "import numpy as np # pyright: ignore[reportMissingImports]"
      ]
    },
    {
      "cell_type": "code",
      "execution_count": null,
      "metadata": {
        "id": "DvojH9fZ3pPT"
      },
      "outputs": [],
      "source": [
        "df=pd.read_csv(\"/content/Data_to_Transform.csv\")"
      ]
    },
    {
      "cell_type": "code",
      "execution_count": null,
      "metadata": {
        "id": "XcpKUdzH3utM"
      },
      "outputs": [],
      "source": [
        "df.skew()"
      ]
    },
    {
      "cell_type": "code",
      "execution_count": null,
      "metadata": {
        "id": "YFJ8gY8D35iq"
      },
      "outputs": [],
      "source": [
        "#Perform Log,Reciprocal,sqrt,dquare method one by one"
      ]
    },
    {
      "cell_type": "code",
      "execution_count": null,
      "metadata": {
        "id": "M_jXrKZq5sCy"
      },
      "outputs": [],
      "source": [
        "#perfrom boxcox and yeojhonson method for any one column"
      ]
    },
    {
      "cell_type": "code",
      "execution_count": null,
      "metadata": {
        "id": "jliLGvp26NwI"
      },
      "outputs": [],
      "source": [
        "import matplotlib.pyplot as plt # pyright: ignore[reportMissingModuleSource]\n",
        "import seaborn as sns # pyright: ignore[reportMissingModuleSource]\n",
        "import statsmodels.api as sm # pyright: ignore[reportMissingImports]\n",
        "import scipy.stats as stats # pyright: ignore[reportMissingImports]"
      ]
    },
    {
      "cell_type": "code",
      "execution_count": null,
      "metadata": {
        "id": "G9dEZWqE6Ohw"
      },
      "outputs": [],
      "source": [
        "sm.qqplot(df['Moderate Negative Skew'],line='45')\n",
        "plt.show()"
      ]
    },
    {
      "cell_type": "code",
      "execution_count": null,
      "metadata": {
        "id": "ZJU7q2-C6QtP"
      },
      "outputs": [],
      "source": [
        "sm.qqplot(df['Moderate Negative Skew_1'],line='45')\n",
        "plt.show()"
      ]
    },
    {
      "cell_type": "code",
      "execution_count": null,
      "metadata": {
        "id": "qKv4n0xO6UaO"
      },
      "outputs": [],
      "source": [
        "df[\"Highly Negative Skew_1\"]=qt.fit_transform(df[[\"Highly Negative Skew\"]])\n",
        "sm.qqplot(df['Highly Negative Skew'],line='45')\n",
        "plt.show()"
      ]
    },
    {
      "cell_type": "code",
      "execution_count": null,
      "metadata": {
        "id": "0gLgezs16VOm"
      },
      "outputs": [],
      "source": [
        "df"
      ]
    },
    {
      "cell_type": "code",
      "execution_count": null,
      "metadata": {
        "id": "fMrnkLpa6ZcI"
      },
      "outputs": [],
      "source": [
        "sm.qqplot(df['Highly Negative Skew_1'],line='45')\n",
        "plt.show()"
      ]
    }
  ],
  "metadata": {
    "colab": {
      "provenance": []
    },
    "kernelspec": {
      "display_name": "Python 3",
      "name": "python3"
    },
    "language_info": {
      "name": "python"
    }
  },
  "nbformat": 4,
  "nbformat_minor": 0
}
